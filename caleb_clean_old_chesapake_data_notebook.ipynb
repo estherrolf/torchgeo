{
 "cells": [
  {
   "cell_type": "code",
   "execution_count": 1,
   "id": "proved-pressing",
   "metadata": {},
   "outputs": [],
   "source": [
    "import os\n",
    "import subprocess\n",
    "\n",
    "import rasterio"
   ]
  },
  {
   "cell_type": "code",
   "execution_count": 2,
   "id": "current-imperial",
   "metadata": {},
   "outputs": [],
   "source": [
    "DATASET_ROOT = \"/home/esther/torchgeo_data/cvpr_chesapeake_landcover/\""
   ]
  },
  {
   "cell_type": "code",
   "execution_count": 3,
   "id": "referenced-alexandria",
   "metadata": {},
   "outputs": [],
   "source": [
    "test_fns = [\n",
    "    \"m_4307660_ne_18_1_buildings.tif\",\n",
    "    \"m_4307660_ne_18_1_cvpr_2019_map_preds.tif\",\n",
    "    \"m_4307660_ne_18_1_landsat-leaf-off.tif\",\n",
    "    \"m_4307660_ne_18_1_landsat-leaf-on.tif\",\n",
    "    \"m_4307660_ne_18_1_lc.tif\",\n",
    "    \"m_4307660_ne_18_1_naip-new.tif\",\n",
    "    \"m_4307660_ne_18_1_naip-old.tif\",\n",
    "    \"m_4307660_ne_18_1_nlcd.tif\",\n",
    "    \"m_4307660_ne_18_1_nlcd_onehot.tif\",\n",
    "    \"m_4307660_ne_18_1_nlcd_onehot_blurred_kernelsize_101_sigma_15.tif\",\n",
    "    \"m_4307660_ne_18_1_nlcd_onehot_blurred_kernelsize_101_sigma_31.tif\",\n",
    "    \"m_4307660_ne_18_1_prior_from_cooccurrences_0_0_no_osm_no_buildings.tif\",\n",
    "    \"m_4307660_ne_18_1_prior_from_cooccurrences_101_15.tif\",\n",
    "    \"m_4307660_ne_18_1_prior_from_cooccurrences_101_15_no_osm_no_buildings.tif\",\n",
    "    \"m_4307660_ne_18_1_prior_from_cooccurrences_101_31_no_osm_no_buildings.tif\",\n",
    "    \"m_4307660_ne_18_1_qr_forward_pred.tif\",\n",
    "    \"m_4307660_ne_18_1_qr_forward_pred_argmaxed.tif\",\n",
    "    \"m_4307660_ne_18_1_qr_forward_pred_bestval.tif\",\n",
    "    \"m_4307660_ne_18_1_qr_forward_pred_bestval_argmaxed.tif\",\n",
    "    \"m_4307660_ne_18_1_qr_forward_pred_last.tif\",\n",
    "    \"m_4307660_ne_18_1_qr_forward_pred_last_argmaxed.tif\",\n",
    "    \"m_4307660_ne_18_1_roads.tif\",\n",
    "    \"m_4307660_ne_18_1_water.tif\",\n",
    "    \"m_4307660_ne_18_1_waterbodies.tif\",\n",
    "    \"m_4307660_ne_18_1_waterways.tif\",\n",
    "]"
   ]
  },
  {
   "cell_type": "code",
   "execution_count": 5,
   "id": "central-taste",
   "metadata": {},
   "outputs": [
    {
     "name": "stdout",
     "output_type": "stream",
     "text": [
      "m_4307660_ne_18_1_buildings.tif ([<MaskFlags.all_valid: 1>],)\n",
      "m_4307660_ne_18_1_cvpr_2019_map_preds.tif ([<MaskFlags.all_valid: 1>],)\n",
      "m_4307660_ne_18_1_landsat-leaf-off.tif ([<MaskFlags.all_valid: 1>], [<MaskFlags.all_valid: 1>], [<MaskFlags.all_valid: 1>], [<MaskFlags.all_valid: 1>], [<MaskFlags.all_valid: 1>], [<MaskFlags.all_valid: 1>], [<MaskFlags.all_valid: 1>], [<MaskFlags.all_valid: 1>], [<MaskFlags.all_valid: 1>])\n",
      "m_4307660_ne_18_1_landsat-leaf-on.tif ([<MaskFlags.all_valid: 1>], [<MaskFlags.all_valid: 1>], [<MaskFlags.all_valid: 1>], [<MaskFlags.all_valid: 1>], [<MaskFlags.all_valid: 1>], [<MaskFlags.all_valid: 1>], [<MaskFlags.all_valid: 1>], [<MaskFlags.all_valid: 1>], [<MaskFlags.all_valid: 1>])\n",
      "m_4307660_ne_18_1_lc.tif ([<MaskFlags.all_valid: 1>],)\n",
      "m_4307660_ne_18_1_naip-new.tif ([<MaskFlags.all_valid: 1>], [<MaskFlags.all_valid: 1>], [<MaskFlags.all_valid: 1>], [<MaskFlags.all_valid: 1>])\n",
      "m_4307660_ne_18_1_naip-old.tif ([<MaskFlags.all_valid: 1>], [<MaskFlags.all_valid: 1>], [<MaskFlags.all_valid: 1>], [<MaskFlags.all_valid: 1>])\n",
      "m_4307660_ne_18_1_nlcd.tif ([<MaskFlags.all_valid: 1>],)\n",
      "m_4307660_ne_18_1_nlcd_onehot.tif ([<MaskFlags.all_valid: 1>], [<MaskFlags.all_valid: 1>], [<MaskFlags.all_valid: 1>], [<MaskFlags.all_valid: 1>], [<MaskFlags.all_valid: 1>], [<MaskFlags.all_valid: 1>], [<MaskFlags.all_valid: 1>], [<MaskFlags.all_valid: 1>], [<MaskFlags.all_valid: 1>], [<MaskFlags.all_valid: 1>], [<MaskFlags.all_valid: 1>], [<MaskFlags.all_valid: 1>], [<MaskFlags.all_valid: 1>], [<MaskFlags.all_valid: 1>], [<MaskFlags.all_valid: 1>], [<MaskFlags.all_valid: 1>], [<MaskFlags.all_valid: 1>])\n",
      "m_4307660_ne_18_1_nlcd_onehot_blurred_kernelsize_101_sigma_15.tif ([<MaskFlags.all_valid: 1>], [<MaskFlags.all_valid: 1>], [<MaskFlags.all_valid: 1>], [<MaskFlags.all_valid: 1>], [<MaskFlags.all_valid: 1>], [<MaskFlags.all_valid: 1>], [<MaskFlags.all_valid: 1>], [<MaskFlags.all_valid: 1>], [<MaskFlags.all_valid: 1>], [<MaskFlags.all_valid: 1>], [<MaskFlags.all_valid: 1>], [<MaskFlags.all_valid: 1>], [<MaskFlags.all_valid: 1>], [<MaskFlags.all_valid: 1>], [<MaskFlags.all_valid: 1>], [<MaskFlags.all_valid: 1>], [<MaskFlags.all_valid: 1>])\n",
      "m_4307660_ne_18_1_nlcd_onehot_blurred_kernelsize_101_sigma_31.tif ([<MaskFlags.all_valid: 1>], [<MaskFlags.all_valid: 1>], [<MaskFlags.all_valid: 1>], [<MaskFlags.all_valid: 1>], [<MaskFlags.all_valid: 1>], [<MaskFlags.all_valid: 1>], [<MaskFlags.all_valid: 1>], [<MaskFlags.all_valid: 1>], [<MaskFlags.all_valid: 1>], [<MaskFlags.all_valid: 1>], [<MaskFlags.all_valid: 1>], [<MaskFlags.all_valid: 1>], [<MaskFlags.all_valid: 1>], [<MaskFlags.all_valid: 1>], [<MaskFlags.all_valid: 1>], [<MaskFlags.all_valid: 1>], [<MaskFlags.all_valid: 1>])\n",
      "m_4307660_ne_18_1_prior_from_cooccurrences_0_0_no_osm_no_buildings.tif ([<MaskFlags.per_dataset: 2>, <MaskFlags.alpha: 4>], [<MaskFlags.per_dataset: 2>, <MaskFlags.alpha: 4>], [<MaskFlags.per_dataset: 2>, <MaskFlags.alpha: 4>], [<MaskFlags.all_valid: 1>])\n",
      "m_4307660_ne_18_1_prior_from_cooccurrences_101_15.tif ([<MaskFlags.per_dataset: 2>, <MaskFlags.alpha: 4>], [<MaskFlags.per_dataset: 2>, <MaskFlags.alpha: 4>], [<MaskFlags.per_dataset: 2>, <MaskFlags.alpha: 4>], [<MaskFlags.all_valid: 1>])\n",
      "m_4307660_ne_18_1_prior_from_cooccurrences_101_15_no_osm_no_buildings.tif ([<MaskFlags.per_dataset: 2>, <MaskFlags.alpha: 4>], [<MaskFlags.per_dataset: 2>, <MaskFlags.alpha: 4>], [<MaskFlags.per_dataset: 2>, <MaskFlags.alpha: 4>], [<MaskFlags.all_valid: 1>])\n",
      "m_4307660_ne_18_1_prior_from_cooccurrences_101_31_no_osm_no_buildings.tif ([<MaskFlags.per_dataset: 2>, <MaskFlags.alpha: 4>], [<MaskFlags.per_dataset: 2>, <MaskFlags.alpha: 4>], [<MaskFlags.per_dataset: 2>, <MaskFlags.alpha: 4>], [<MaskFlags.all_valid: 1>])\n",
      "m_4307660_ne_18_1_qr_forward_pred.tif ([<MaskFlags.per_dataset: 2>, <MaskFlags.alpha: 4>], [<MaskFlags.per_dataset: 2>, <MaskFlags.alpha: 4>], [<MaskFlags.per_dataset: 2>, <MaskFlags.alpha: 4>], [<MaskFlags.all_valid: 1>])\n",
      "m_4307660_ne_18_1_qr_forward_pred_argmaxed.tif ([<MaskFlags.all_valid: 1>],)\n",
      "m_4307660_ne_18_1_qr_forward_pred_bestval.tif ([<MaskFlags.per_dataset: 2>, <MaskFlags.alpha: 4>], [<MaskFlags.per_dataset: 2>, <MaskFlags.alpha: 4>], [<MaskFlags.per_dataset: 2>, <MaskFlags.alpha: 4>], [<MaskFlags.all_valid: 1>])\n",
      "m_4307660_ne_18_1_qr_forward_pred_bestval_argmaxed.tif ([<MaskFlags.all_valid: 1>],)\n",
      "m_4307660_ne_18_1_qr_forward_pred_last.tif ([<MaskFlags.per_dataset: 2>, <MaskFlags.alpha: 4>], [<MaskFlags.per_dataset: 2>, <MaskFlags.alpha: 4>], [<MaskFlags.per_dataset: 2>, <MaskFlags.alpha: 4>], [<MaskFlags.all_valid: 1>])\n",
      "m_4307660_ne_18_1_qr_forward_pred_last_argmaxed.tif ([<MaskFlags.all_valid: 1>],)\n",
      "m_4307660_ne_18_1_roads.tif ([<MaskFlags.all_valid: 1>],)\n",
      "m_4307660_ne_18_1_water.tif ([<MaskFlags.all_valid: 1>],)\n",
      "m_4307660_ne_18_1_waterbodies.tif ([<MaskFlags.all_valid: 1>],)\n",
      "m_4307660_ne_18_1_waterways.tif ([<MaskFlags.all_valid: 1>],)\n"
     ]
    }
   ],
   "source": [
    "for fn in test_fns:\n",
    "    with rasterio.open(f\"../torchgeo_data/cvpr_chesapeake_landcover/ny_1m_2013_extended-debuffered-test_tiles/{fn}\") as f:\n",
    "        print(fn, f.mask_flag_enums)"
   ]
  },
  {
   "cell_type": "code",
   "execution_count": 6,
   "id": "covered-developer",
   "metadata": {},
   "outputs": [],
   "source": [
    "suffix_patterns = [\n",
    "    \"_prior_from_cooccurrences_0_0_no_osm_no_buildings.tif\",\n",
    "    \"_prior_from_cooccurrences_101_15.tif\",\n",
    "    \"_prior_from_cooccurrences_101_15_no_osm_no_buildings.tif\",\n",
    "    \"_prior_from_cooccurrences_101_31_no_osm_no_buildings.tif\",\n",
    "    \"_qr_forward_pred.tif\",\n",
    "    \"_qr_forward_pred_bestval.tif\",\n",
    "    \"_qr_forward_pred_last.tif\",\n",
    "]"
   ]
  },
  {
   "cell_type": "code",
   "execution_count": 7,
   "id": "abroad-maintenance",
   "metadata": {},
   "outputs": [],
   "source": [
    "for root, dirs, files in os.walk(DATASET_ROOT):\n",
    "    for fn in files:\n",
    "        if any(fn.endswith(pattern) for pattern in suffix_patterns):\n",
    "            fn = os.path.join(root, fn)\n",
    "                    \n",
    "            out_val = subprocess.call([\n",
    "                \"gdal_edit.py\",\n",
    "                \"-colorinterp_1\", \"undefined\",\n",
    "                \"-colorinterp_2\", \"undefined\",\n",
    "                \"-colorinterp_3\", \"undefined\",\n",
    "                \"-colorinterp_4\", \"undefined\",\n",
    "                fn\n",
    "            ])\n",
    "            \n",
    "            if out_val != 0:\n",
    "                raise ValueError(\"\")\n",
    "        else:\n",
    "            pass # we good"
   ]
  },
  {
   "cell_type": "code",
   "execution_count": null,
   "id": "scheduled-elizabeth",
   "metadata": {},
   "outputs": [],
   "source": []
  }
 ],
 "metadata": {
  "kernelspec": {
   "display_name": "torchgeo",
   "language": "python",
   "name": "conda-env-torchgeo-py"
  },
  "language_info": {
   "codemirror_mode": {
    "name": "ipython",
    "version": 3
   },
   "file_extension": ".py",
   "mimetype": "text/x-python",
   "name": "python",
   "nbconvert_exporter": "python",
   "pygments_lexer": "ipython3",
   "version": "3.9.7"
  }
 },
 "nbformat": 4,
 "nbformat_minor": 5
}
